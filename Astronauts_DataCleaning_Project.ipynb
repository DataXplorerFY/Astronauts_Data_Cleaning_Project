{
 "cells": [
  {
   "cell_type": "code",
   "execution_count": 1,
   "id": "769df531",
   "metadata": {},
   "outputs": [],
   "source": [
    "import numpy as np"
   ]
  },
  {
   "cell_type": "code",
   "execution_count": 2,
   "id": "779a3a30",
   "metadata": {},
   "outputs": [],
   "source": [
    "import pandas as pd"
   ]
  },
  {
   "cell_type": "code",
   "execution_count": 4,
   "id": "85d738b6",
   "metadata": {},
   "outputs": [],
   "source": [
    "df=pd.read_csv(\"astronauts.csv\")"
   ]
  },
  {
   "cell_type": "code",
   "execution_count": 5,
   "id": "be368324",
   "metadata": {},
   "outputs": [
    {
     "data": {
      "text/html": [
       "<div>\n",
       "<style scoped>\n",
       "    .dataframe tbody tr th:only-of-type {\n",
       "        vertical-align: middle;\n",
       "    }\n",
       "\n",
       "    .dataframe tbody tr th {\n",
       "        vertical-align: top;\n",
       "    }\n",
       "\n",
       "    .dataframe thead th {\n",
       "        text-align: right;\n",
       "    }\n",
       "</style>\n",
       "<table border=\"1\" class=\"dataframe\">\n",
       "  <thead>\n",
       "    <tr style=\"text-align: right;\">\n",
       "      <th></th>\n",
       "      <th>Name</th>\n",
       "      <th>Year</th>\n",
       "      <th>Group</th>\n",
       "      <th>Status</th>\n",
       "      <th>Birth Date</th>\n",
       "      <th>Birth Place</th>\n",
       "      <th>Gender</th>\n",
       "      <th>Alma Mater</th>\n",
       "      <th>Undergraduate Major</th>\n",
       "      <th>Graduate Major</th>\n",
       "      <th>Military Rank</th>\n",
       "      <th>Military Branch</th>\n",
       "      <th>Space Flights</th>\n",
       "      <th>Space Flight (hr)</th>\n",
       "      <th>Space Walks</th>\n",
       "      <th>Space Walks (hr)</th>\n",
       "      <th>Missions</th>\n",
       "      <th>Death Date</th>\n",
       "      <th>Death Mission</th>\n",
       "    </tr>\n",
       "  </thead>\n",
       "  <tbody>\n",
       "    <tr>\n",
       "      <th>0</th>\n",
       "      <td>Joseph M. Acaba</td>\n",
       "      <td>2004.0</td>\n",
       "      <td>19.0</td>\n",
       "      <td>Active</td>\n",
       "      <td>5/17/1967</td>\n",
       "      <td>Inglewood, CA</td>\n",
       "      <td>Male</td>\n",
       "      <td>University of California-Santa Barbara; Univer...</td>\n",
       "      <td>Geology</td>\n",
       "      <td>Geology</td>\n",
       "      <td>NaN</td>\n",
       "      <td>NaN</td>\n",
       "      <td>2</td>\n",
       "      <td>3307</td>\n",
       "      <td>2</td>\n",
       "      <td>13.0</td>\n",
       "      <td>STS-119 (Discovery), ISS-31/32 (Soyuz)</td>\n",
       "      <td>NaN</td>\n",
       "      <td>NaN</td>\n",
       "    </tr>\n",
       "    <tr>\n",
       "      <th>1</th>\n",
       "      <td>Loren W. Acton</td>\n",
       "      <td>NaN</td>\n",
       "      <td>NaN</td>\n",
       "      <td>Retired</td>\n",
       "      <td>3/7/1936</td>\n",
       "      <td>Lewiston, MT</td>\n",
       "      <td>Male</td>\n",
       "      <td>Montana State University; University of Colorado</td>\n",
       "      <td>Engineering Physics</td>\n",
       "      <td>Solar Physics</td>\n",
       "      <td>NaN</td>\n",
       "      <td>NaN</td>\n",
       "      <td>1</td>\n",
       "      <td>190</td>\n",
       "      <td>0</td>\n",
       "      <td>0.0</td>\n",
       "      <td>STS 51-F (Challenger)</td>\n",
       "      <td>NaN</td>\n",
       "      <td>NaN</td>\n",
       "    </tr>\n",
       "    <tr>\n",
       "      <th>2</th>\n",
       "      <td>James C. Adamson</td>\n",
       "      <td>1984.0</td>\n",
       "      <td>10.0</td>\n",
       "      <td>Retired</td>\n",
       "      <td>3/3/1946</td>\n",
       "      <td>Warsaw, NY</td>\n",
       "      <td>Male</td>\n",
       "      <td>US Military Academy; Princeton University</td>\n",
       "      <td>Engineering</td>\n",
       "      <td>Aerospace Engineering</td>\n",
       "      <td>Colonel</td>\n",
       "      <td>US Army (Retired)</td>\n",
       "      <td>2</td>\n",
       "      <td>334</td>\n",
       "      <td>0</td>\n",
       "      <td>0.0</td>\n",
       "      <td>STS-28 (Columbia), STS-43 (Atlantis)</td>\n",
       "      <td>NaN</td>\n",
       "      <td>NaN</td>\n",
       "    </tr>\n",
       "    <tr>\n",
       "      <th>3</th>\n",
       "      <td>Thomas D. Akers</td>\n",
       "      <td>1987.0</td>\n",
       "      <td>12.0</td>\n",
       "      <td>Retired</td>\n",
       "      <td>5/20/1951</td>\n",
       "      <td>St. Louis, MO</td>\n",
       "      <td>Male</td>\n",
       "      <td>University of Missouri-Rolla</td>\n",
       "      <td>Applied Mathematics</td>\n",
       "      <td>Applied Mathematics</td>\n",
       "      <td>Colonel</td>\n",
       "      <td>US Air Force (Retired)</td>\n",
       "      <td>4</td>\n",
       "      <td>814</td>\n",
       "      <td>4</td>\n",
       "      <td>29.0</td>\n",
       "      <td>STS-41 (Discovery), STS-49 (Endeavor), STS-61 ...</td>\n",
       "      <td>NaN</td>\n",
       "      <td>NaN</td>\n",
       "    </tr>\n",
       "    <tr>\n",
       "      <th>4</th>\n",
       "      <td>Buzz Aldrin</td>\n",
       "      <td>1963.0</td>\n",
       "      <td>3.0</td>\n",
       "      <td>Retired</td>\n",
       "      <td>1/20/1930</td>\n",
       "      <td>Montclair, NJ</td>\n",
       "      <td>Male</td>\n",
       "      <td>US Military Academy; MIT</td>\n",
       "      <td>Mechanical Engineering</td>\n",
       "      <td>Astronautics</td>\n",
       "      <td>Colonel</td>\n",
       "      <td>US Air Force (Retired)</td>\n",
       "      <td>2</td>\n",
       "      <td>289</td>\n",
       "      <td>2</td>\n",
       "      <td>8.0</td>\n",
       "      <td>Gemini 12, Apollo 11</td>\n",
       "      <td>NaN</td>\n",
       "      <td>NaN</td>\n",
       "    </tr>\n",
       "  </tbody>\n",
       "</table>\n",
       "</div>"
      ],
      "text/plain": [
       "               Name    Year  Group   Status Birth Date    Birth Place Gender  \\\n",
       "0   Joseph M. Acaba  2004.0   19.0   Active  5/17/1967  Inglewood, CA   Male   \n",
       "1    Loren W. Acton     NaN    NaN  Retired   3/7/1936   Lewiston, MT   Male   \n",
       "2  James C. Adamson  1984.0   10.0  Retired   3/3/1946     Warsaw, NY   Male   \n",
       "3   Thomas D. Akers  1987.0   12.0  Retired  5/20/1951  St. Louis, MO   Male   \n",
       "4       Buzz Aldrin  1963.0    3.0  Retired  1/20/1930  Montclair, NJ   Male   \n",
       "\n",
       "                                          Alma Mater     Undergraduate Major  \\\n",
       "0  University of California-Santa Barbara; Univer...                 Geology   \n",
       "1   Montana State University; University of Colorado     Engineering Physics   \n",
       "2          US Military Academy; Princeton University             Engineering   \n",
       "3                       University of Missouri-Rolla     Applied Mathematics   \n",
       "4                           US Military Academy; MIT  Mechanical Engineering   \n",
       "\n",
       "          Graduate Major Military Rank         Military Branch  Space Flights  \\\n",
       "0                Geology           NaN                     NaN              2   \n",
       "1          Solar Physics           NaN                     NaN              1   \n",
       "2  Aerospace Engineering       Colonel       US Army (Retired)              2   \n",
       "3    Applied Mathematics       Colonel  US Air Force (Retired)              4   \n",
       "4           Astronautics       Colonel  US Air Force (Retired)              2   \n",
       "\n",
       "   Space Flight (hr)  Space Walks  Space Walks (hr)  \\\n",
       "0               3307            2              13.0   \n",
       "1                190            0               0.0   \n",
       "2                334            0               0.0   \n",
       "3                814            4              29.0   \n",
       "4                289            2               8.0   \n",
       "\n",
       "                                            Missions Death Date Death Mission  \n",
       "0             STS-119 (Discovery), ISS-31/32 (Soyuz)        NaN           NaN  \n",
       "1                              STS 51-F (Challenger)        NaN           NaN  \n",
       "2               STS-28 (Columbia), STS-43 (Atlantis)        NaN           NaN  \n",
       "3  STS-41 (Discovery), STS-49 (Endeavor), STS-61 ...        NaN           NaN  \n",
       "4                               Gemini 12, Apollo 11        NaN           NaN  "
      ]
     },
     "execution_count": 5,
     "metadata": {},
     "output_type": "execute_result"
    }
   ],
   "source": [
    "df.head()"
   ]
  },
  {
   "cell_type": "code",
   "execution_count": 6,
   "id": "4b1b3a14",
   "metadata": {},
   "outputs": [
    {
     "data": {
      "text/plain": [
       "(357, 19)"
      ]
     },
     "execution_count": 6,
     "metadata": {},
     "output_type": "execute_result"
    }
   ],
   "source": [
    "df.shape"
   ]
  },
  {
   "cell_type": "code",
   "execution_count": 7,
   "id": "b80bcbd9",
   "metadata": {},
   "outputs": [
    {
     "data": {
      "text/html": [
       "<div>\n",
       "<style scoped>\n",
       "    .dataframe tbody tr th:only-of-type {\n",
       "        vertical-align: middle;\n",
       "    }\n",
       "\n",
       "    .dataframe tbody tr th {\n",
       "        vertical-align: top;\n",
       "    }\n",
       "\n",
       "    .dataframe thead th {\n",
       "        text-align: right;\n",
       "    }\n",
       "</style>\n",
       "<table border=\"1\" class=\"dataframe\">\n",
       "  <thead>\n",
       "    <tr style=\"text-align: right;\">\n",
       "      <th></th>\n",
       "      <th>Year</th>\n",
       "      <th>Group</th>\n",
       "      <th>Space Flights</th>\n",
       "      <th>Space Flight (hr)</th>\n",
       "      <th>Space Walks</th>\n",
       "      <th>Space Walks (hr)</th>\n",
       "    </tr>\n",
       "  </thead>\n",
       "  <tbody>\n",
       "    <tr>\n",
       "      <th>count</th>\n",
       "      <td>330.000000</td>\n",
       "      <td>330.000000</td>\n",
       "      <td>357.000000</td>\n",
       "      <td>357.000000</td>\n",
       "      <td>357.000000</td>\n",
       "      <td>357.000000</td>\n",
       "    </tr>\n",
       "    <tr>\n",
       "      <th>mean</th>\n",
       "      <td>1985.106061</td>\n",
       "      <td>11.409091</td>\n",
       "      <td>2.364146</td>\n",
       "      <td>1249.266106</td>\n",
       "      <td>1.246499</td>\n",
       "      <td>7.707283</td>\n",
       "    </tr>\n",
       "    <tr>\n",
       "      <th>std</th>\n",
       "      <td>13.216147</td>\n",
       "      <td>5.149962</td>\n",
       "      <td>1.428700</td>\n",
       "      <td>1896.759857</td>\n",
       "      <td>2.056989</td>\n",
       "      <td>13.367973</td>\n",
       "    </tr>\n",
       "    <tr>\n",
       "      <th>min</th>\n",
       "      <td>1959.000000</td>\n",
       "      <td>1.000000</td>\n",
       "      <td>0.000000</td>\n",
       "      <td>0.000000</td>\n",
       "      <td>0.000000</td>\n",
       "      <td>0.000000</td>\n",
       "    </tr>\n",
       "    <tr>\n",
       "      <th>25%</th>\n",
       "      <td>1978.000000</td>\n",
       "      <td>8.000000</td>\n",
       "      <td>1.000000</td>\n",
       "      <td>289.000000</td>\n",
       "      <td>0.000000</td>\n",
       "      <td>0.000000</td>\n",
       "    </tr>\n",
       "    <tr>\n",
       "      <th>50%</th>\n",
       "      <td>1987.000000</td>\n",
       "      <td>12.000000</td>\n",
       "      <td>2.000000</td>\n",
       "      <td>590.000000</td>\n",
       "      <td>0.000000</td>\n",
       "      <td>0.000000</td>\n",
       "    </tr>\n",
       "    <tr>\n",
       "      <th>75%</th>\n",
       "      <td>1996.000000</td>\n",
       "      <td>16.000000</td>\n",
       "      <td>3.000000</td>\n",
       "      <td>1045.000000</td>\n",
       "      <td>2.000000</td>\n",
       "      <td>12.000000</td>\n",
       "    </tr>\n",
       "    <tr>\n",
       "      <th>max</th>\n",
       "      <td>2009.000000</td>\n",
       "      <td>20.000000</td>\n",
       "      <td>7.000000</td>\n",
       "      <td>12818.000000</td>\n",
       "      <td>10.000000</td>\n",
       "      <td>67.000000</td>\n",
       "    </tr>\n",
       "  </tbody>\n",
       "</table>\n",
       "</div>"
      ],
      "text/plain": [
       "              Year       Group  Space Flights  Space Flight (hr)  Space Walks  \\\n",
       "count   330.000000  330.000000     357.000000         357.000000   357.000000   \n",
       "mean   1985.106061   11.409091       2.364146        1249.266106     1.246499   \n",
       "std      13.216147    5.149962       1.428700        1896.759857     2.056989   \n",
       "min    1959.000000    1.000000       0.000000           0.000000     0.000000   \n",
       "25%    1978.000000    8.000000       1.000000         289.000000     0.000000   \n",
       "50%    1987.000000   12.000000       2.000000         590.000000     0.000000   \n",
       "75%    1996.000000   16.000000       3.000000        1045.000000     2.000000   \n",
       "max    2009.000000   20.000000       7.000000       12818.000000    10.000000   \n",
       "\n",
       "       Space Walks (hr)  \n",
       "count        357.000000  \n",
       "mean           7.707283  \n",
       "std           13.367973  \n",
       "min            0.000000  \n",
       "25%            0.000000  \n",
       "50%            0.000000  \n",
       "75%           12.000000  \n",
       "max           67.000000  "
      ]
     },
     "execution_count": 7,
     "metadata": {},
     "output_type": "execute_result"
    }
   ],
   "source": [
    "df.describe()"
   ]
  },
  {
   "cell_type": "code",
   "execution_count": 8,
   "id": "e0db352b",
   "metadata": {},
   "outputs": [
    {
     "data": {
      "text/plain": [
       "Name                    object\n",
       "Year                   float64\n",
       "Group                  float64\n",
       "Status                  object\n",
       "Birth Date              object\n",
       "Birth Place             object\n",
       "Gender                  object\n",
       "Alma Mater              object\n",
       "Undergraduate Major     object\n",
       "Graduate Major          object\n",
       "Military Rank           object\n",
       "Military Branch         object\n",
       "Space Flights            int64\n",
       "Space Flight (hr)        int64\n",
       "Space Walks              int64\n",
       "Space Walks (hr)       float64\n",
       "Missions                object\n",
       "Death Date              object\n",
       "Death Mission           object\n",
       "dtype: object"
      ]
     },
     "execution_count": 8,
     "metadata": {},
     "output_type": "execute_result"
    }
   ],
   "source": [
    "df.dtypes"
   ]
  },
  {
   "cell_type": "code",
   "execution_count": 9,
   "id": "9fa4b6d1",
   "metadata": {},
   "outputs": [
    {
     "data": {
      "text/plain": [
       "Name                     0\n",
       "Year                    27\n",
       "Group                   27\n",
       "Status                   0\n",
       "Birth Date               0\n",
       "Birth Place              0\n",
       "Gender                   0\n",
       "Alma Mater               1\n",
       "Undergraduate Major     22\n",
       "Graduate Major          59\n",
       "Military Rank          150\n",
       "Military Branch        146\n",
       "Space Flights            0\n",
       "Space Flight (hr)        0\n",
       "Space Walks              0\n",
       "Space Walks (hr)         0\n",
       "Missions                23\n",
       "Death Date             305\n",
       "Death Mission          341\n",
       "dtype: int64"
      ]
     },
     "execution_count": 9,
     "metadata": {},
     "output_type": "execute_result"
    }
   ],
   "source": [
    "df.isnull().sum()"
   ]
  },
  {
   "cell_type": "code",
   "execution_count": 10,
   "id": "a74d7dc5",
   "metadata": {},
   "outputs": [],
   "source": [
    "df[\"Year\"].fillna(df[\"Year\"].mean(), inplace=True)"
   ]
  },
  {
   "cell_type": "code",
   "execution_count": 12,
   "id": "e69ac1c9",
   "metadata": {},
   "outputs": [],
   "source": [
    "df[\"Group\"].fillna(df[\"Group\"].mean(),inplace=True)"
   ]
  },
  {
   "cell_type": "code",
   "execution_count": 13,
   "id": "e9abaf98",
   "metadata": {},
   "outputs": [
    {
     "data": {
      "text/plain": [
       "Name                     0\n",
       "Year                     0\n",
       "Group                    0\n",
       "Status                   0\n",
       "Birth Date               0\n",
       "Birth Place              0\n",
       "Gender                   0\n",
       "Alma Mater               1\n",
       "Undergraduate Major     22\n",
       "Graduate Major          59\n",
       "Military Rank          150\n",
       "Military Branch        146\n",
       "Space Flights            0\n",
       "Space Flight (hr)        0\n",
       "Space Walks              0\n",
       "Space Walks (hr)         0\n",
       "Missions                23\n",
       "Death Date             305\n",
       "Death Mission          341\n",
       "dtype: int64"
      ]
     },
     "execution_count": 13,
     "metadata": {},
     "output_type": "execute_result"
    }
   ],
   "source": [
    "df.isnull().sum()"
   ]
  },
  {
   "cell_type": "code",
   "execution_count": 14,
   "id": "c6d21aed",
   "metadata": {},
   "outputs": [],
   "source": [
    "df[\"Alma Mater\"].fillna(df[\"Alma Mater\"].mode()[0], inplace=True)"
   ]
  },
  {
   "cell_type": "code",
   "execution_count": 15,
   "id": "1815dc6e",
   "metadata": {},
   "outputs": [
    {
     "data": {
      "text/plain": [
       "Name                     0\n",
       "Year                     0\n",
       "Group                    0\n",
       "Status                   0\n",
       "Birth Date               0\n",
       "Birth Place              0\n",
       "Gender                   0\n",
       "Alma Mater               0\n",
       "Undergraduate Major     22\n",
       "Graduate Major          59\n",
       "Military Rank          150\n",
       "Military Branch        146\n",
       "Space Flights            0\n",
       "Space Flight (hr)        0\n",
       "Space Walks              0\n",
       "Space Walks (hr)         0\n",
       "Missions                23\n",
       "Death Date             305\n",
       "Death Mission          341\n",
       "dtype: int64"
      ]
     },
     "execution_count": 15,
     "metadata": {},
     "output_type": "execute_result"
    }
   ],
   "source": [
    "df.isnull().sum()"
   ]
  },
  {
   "cell_type": "code",
   "execution_count": 16,
   "id": "ac3f915a",
   "metadata": {},
   "outputs": [],
   "source": [
    "df[\"Undergraduate Major\"].fillna(df[\"Undergraduate Major\"].mode()[0], inplace=True)"
   ]
  },
  {
   "cell_type": "code",
   "execution_count": 17,
   "id": "b44c9f48",
   "metadata": {},
   "outputs": [],
   "source": [
    "df[\"Graduate Major\"].fillna(df[\"Graduate Major\"].mode()[0], inplace=True)"
   ]
  },
  {
   "cell_type": "code",
   "execution_count": 18,
   "id": "1c982ef5",
   "metadata": {},
   "outputs": [],
   "source": [
    "df[\"Military Rank\"].fillna(df[\"Military Rank\"].mode()[0], inplace=True)"
   ]
  },
  {
   "cell_type": "code",
   "execution_count": 20,
   "id": "27ea1827",
   "metadata": {},
   "outputs": [],
   "source": [
    "df[\"Military Branch\"].fillna(df[\"Military Branch\"].mode()[0], inplace=True)"
   ]
  },
  {
   "cell_type": "code",
   "execution_count": 21,
   "id": "20e96410",
   "metadata": {},
   "outputs": [
    {
     "data": {
      "text/plain": [
       "Name                     0\n",
       "Year                     0\n",
       "Group                    0\n",
       "Status                   0\n",
       "Birth Date               0\n",
       "Birth Place              0\n",
       "Gender                   0\n",
       "Alma Mater               0\n",
       "Undergraduate Major      0\n",
       "Graduate Major           0\n",
       "Military Rank            0\n",
       "Military Branch          0\n",
       "Space Flights            0\n",
       "Space Flight (hr)        0\n",
       "Space Walks              0\n",
       "Space Walks (hr)         0\n",
       "Missions                23\n",
       "Death Date             305\n",
       "Death Mission          341\n",
       "dtype: int64"
      ]
     },
     "execution_count": 21,
     "metadata": {},
     "output_type": "execute_result"
    }
   ],
   "source": [
    "df.isnull().sum()"
   ]
  },
  {
   "cell_type": "code",
   "execution_count": 22,
   "id": "353dbeae",
   "metadata": {},
   "outputs": [],
   "source": [
    "df['Missions'].fillna(\"Unknown\", inplace=True)"
   ]
  },
  {
   "cell_type": "code",
   "execution_count": 24,
   "id": "040c70c4",
   "metadata": {},
   "outputs": [
    {
     "data": {
      "text/html": [
       "<div>\n",
       "<style scoped>\n",
       "    .dataframe tbody tr th:only-of-type {\n",
       "        vertical-align: middle;\n",
       "    }\n",
       "\n",
       "    .dataframe tbody tr th {\n",
       "        vertical-align: top;\n",
       "    }\n",
       "\n",
       "    .dataframe thead th {\n",
       "        text-align: right;\n",
       "    }\n",
       "</style>\n",
       "<table border=\"1\" class=\"dataframe\">\n",
       "  <thead>\n",
       "    <tr style=\"text-align: right;\">\n",
       "      <th></th>\n",
       "      <th>Name</th>\n",
       "      <th>Year</th>\n",
       "      <th>Group</th>\n",
       "      <th>Status</th>\n",
       "      <th>Birth Date</th>\n",
       "      <th>Birth Place</th>\n",
       "      <th>Gender</th>\n",
       "      <th>Alma Mater</th>\n",
       "      <th>Undergraduate Major</th>\n",
       "      <th>Graduate Major</th>\n",
       "      <th>Military Rank</th>\n",
       "      <th>Military Branch</th>\n",
       "      <th>Space Flights</th>\n",
       "      <th>Space Flight (hr)</th>\n",
       "      <th>Space Walks</th>\n",
       "      <th>Space Walks (hr)</th>\n",
       "      <th>Missions</th>\n",
       "      <th>Death Date</th>\n",
       "      <th>Death Mission</th>\n",
       "    </tr>\n",
       "  </thead>\n",
       "  <tbody>\n",
       "    <tr>\n",
       "      <th>352</th>\n",
       "      <td>David A. Wolf</td>\n",
       "      <td>1990.0</td>\n",
       "      <td>13.0</td>\n",
       "      <td>Retired</td>\n",
       "      <td>8/23/1956</td>\n",
       "      <td>Indianapolis, IN</td>\n",
       "      <td>Male</td>\n",
       "      <td>Purdue University; Indiana University</td>\n",
       "      <td>Electrical Engineering</td>\n",
       "      <td>Medicine</td>\n",
       "      <td>Colonel</td>\n",
       "      <td>US Air Force (Retired)</td>\n",
       "      <td>3</td>\n",
       "      <td>4044</td>\n",
       "      <td>7</td>\n",
       "      <td>41.0</td>\n",
       "      <td>STS-58 (Columbia). STS-86/89 (Atlantis/Endeavo...</td>\n",
       "      <td>NaN</td>\n",
       "      <td>NaN</td>\n",
       "    </tr>\n",
       "    <tr>\n",
       "      <th>353</th>\n",
       "      <td>Neil W. Woodward III</td>\n",
       "      <td>1998.0</td>\n",
       "      <td>17.0</td>\n",
       "      <td>Retired</td>\n",
       "      <td>7/26/1962</td>\n",
       "      <td>Chicago, IL</td>\n",
       "      <td>Male</td>\n",
       "      <td>MIT; University of Texas-Austin; George Washin...</td>\n",
       "      <td>Physics</td>\n",
       "      <td>Physics; Business Management</td>\n",
       "      <td>Commander</td>\n",
       "      <td>US Navy</td>\n",
       "      <td>0</td>\n",
       "      <td>0</td>\n",
       "      <td>0</td>\n",
       "      <td>0.0</td>\n",
       "      <td>Unknown</td>\n",
       "      <td>NaN</td>\n",
       "      <td>NaN</td>\n",
       "    </tr>\n",
       "    <tr>\n",
       "      <th>354</th>\n",
       "      <td>Alfred M. Worden</td>\n",
       "      <td>1966.0</td>\n",
       "      <td>5.0</td>\n",
       "      <td>Retired</td>\n",
       "      <td>2/7/1932</td>\n",
       "      <td>Jackson, MI</td>\n",
       "      <td>Male</td>\n",
       "      <td>US Military Academy; University of Michigan</td>\n",
       "      <td>Military Science</td>\n",
       "      <td>Aeronautical &amp; Astronautical Engineering</td>\n",
       "      <td>Colonel</td>\n",
       "      <td>US Air Force (Retired)</td>\n",
       "      <td>1</td>\n",
       "      <td>295</td>\n",
       "      <td>1</td>\n",
       "      <td>0.5</td>\n",
       "      <td>Apollo 15</td>\n",
       "      <td>NaN</td>\n",
       "      <td>NaN</td>\n",
       "    </tr>\n",
       "    <tr>\n",
       "      <th>355</th>\n",
       "      <td>John W. Young</td>\n",
       "      <td>1962.0</td>\n",
       "      <td>2.0</td>\n",
       "      <td>Retired</td>\n",
       "      <td>9/24/1930</td>\n",
       "      <td>San Francisco, CA</td>\n",
       "      <td>Male</td>\n",
       "      <td>Georgia Institute of Technology</td>\n",
       "      <td>Aeronautical Engineering</td>\n",
       "      <td>Aeronautical Engineering</td>\n",
       "      <td>Captain</td>\n",
       "      <td>US Navy (Retired)</td>\n",
       "      <td>6</td>\n",
       "      <td>835</td>\n",
       "      <td>3</td>\n",
       "      <td>20.0</td>\n",
       "      <td>Gemini 3, Gemini 10, Apollo 10, Apollo 16, STS...</td>\n",
       "      <td>NaN</td>\n",
       "      <td>NaN</td>\n",
       "    </tr>\n",
       "    <tr>\n",
       "      <th>356</th>\n",
       "      <td>George D. Zamka</td>\n",
       "      <td>1998.0</td>\n",
       "      <td>17.0</td>\n",
       "      <td>Retired</td>\n",
       "      <td>6/29/1962</td>\n",
       "      <td>Jersey City, NJ</td>\n",
       "      <td>Male</td>\n",
       "      <td>US Naval Academy; Florida Institute of Technology</td>\n",
       "      <td>Mathematics</td>\n",
       "      <td>Engineering Management</td>\n",
       "      <td>Colonel</td>\n",
       "      <td>US Marine Corps (Retired)</td>\n",
       "      <td>2</td>\n",
       "      <td>692</td>\n",
       "      <td>0</td>\n",
       "      <td>0.0</td>\n",
       "      <td>STS-120 (Discovery), STS-130 (Endeavor)</td>\n",
       "      <td>NaN</td>\n",
       "      <td>NaN</td>\n",
       "    </tr>\n",
       "  </tbody>\n",
       "</table>\n",
       "</div>"
      ],
      "text/plain": [
       "                      Name    Year  Group   Status Birth Date  \\\n",
       "352          David A. Wolf  1990.0   13.0  Retired  8/23/1956   \n",
       "353  Neil W. Woodward III   1998.0   17.0  Retired  7/26/1962   \n",
       "354       Alfred M. Worden  1966.0    5.0  Retired   2/7/1932   \n",
       "355          John W. Young  1962.0    2.0  Retired  9/24/1930   \n",
       "356        George D. Zamka  1998.0   17.0  Retired  6/29/1962   \n",
       "\n",
       "           Birth Place Gender  \\\n",
       "352   Indianapolis, IN   Male   \n",
       "353        Chicago, IL   Male   \n",
       "354        Jackson, MI   Male   \n",
       "355  San Francisco, CA   Male   \n",
       "356    Jersey City, NJ   Male   \n",
       "\n",
       "                                            Alma Mater  \\\n",
       "352              Purdue University; Indiana University   \n",
       "353  MIT; University of Texas-Austin; George Washin...   \n",
       "354        US Military Academy; University of Michigan   \n",
       "355                    Georgia Institute of Technology   \n",
       "356  US Naval Academy; Florida Institute of Technology   \n",
       "\n",
       "          Undergraduate Major                            Graduate Major  \\\n",
       "352    Electrical Engineering                                  Medicine   \n",
       "353                   Physics              Physics; Business Management   \n",
       "354          Military Science  Aeronautical & Astronautical Engineering   \n",
       "355  Aeronautical Engineering                  Aeronautical Engineering   \n",
       "356               Mathematics                    Engineering Management   \n",
       "\n",
       "    Military Rank            Military Branch  Space Flights  \\\n",
       "352       Colonel     US Air Force (Retired)              3   \n",
       "353     Commander                    US Navy              0   \n",
       "354       Colonel     US Air Force (Retired)              1   \n",
       "355       Captain          US Navy (Retired)              6   \n",
       "356       Colonel  US Marine Corps (Retired)              2   \n",
       "\n",
       "     Space Flight (hr)  Space Walks  Space Walks (hr)  \\\n",
       "352               4044            7              41.0   \n",
       "353                  0            0               0.0   \n",
       "354                295            1               0.5   \n",
       "355                835            3              20.0   \n",
       "356                692            0               0.0   \n",
       "\n",
       "                                              Missions Death Date  \\\n",
       "352  STS-58 (Columbia). STS-86/89 (Atlantis/Endeavo...        NaN   \n",
       "353                                            Unknown        NaN   \n",
       "354                                          Apollo 15        NaN   \n",
       "355  Gemini 3, Gemini 10, Apollo 10, Apollo 16, STS...        NaN   \n",
       "356            STS-120 (Discovery), STS-130 (Endeavor)        NaN   \n",
       "\n",
       "    Death Mission  \n",
       "352           NaN  \n",
       "353           NaN  \n",
       "354           NaN  \n",
       "355           NaN  \n",
       "356           NaN  "
      ]
     },
     "execution_count": 24,
     "metadata": {},
     "output_type": "execute_result"
    }
   ],
   "source": [
    "df.tail()"
   ]
  },
  {
   "cell_type": "code",
   "execution_count": 26,
   "id": "09f82192",
   "metadata": {},
   "outputs": [
    {
     "data": {
      "text/plain": [
       "305"
      ]
     },
     "execution_count": 26,
     "metadata": {},
     "output_type": "execute_result"
    }
   ],
   "source": [
    "df[\"Death Date\"].isnull().sum()"
   ]
  },
  {
   "cell_type": "code",
   "execution_count": 28,
   "id": "17a5fb77",
   "metadata": {},
   "outputs": [
    {
     "data": {
      "text/plain": [
       "341"
      ]
     },
     "execution_count": 28,
     "metadata": {},
     "output_type": "execute_result"
    }
   ],
   "source": [
    "df[\"Death Mission\"].isnull().sum()"
   ]
  },
  {
   "cell_type": "code",
   "execution_count": 29,
   "id": "22e9b4bb",
   "metadata": {},
   "outputs": [
    {
     "data": {
      "text/plain": [
       "0"
      ]
     },
     "execution_count": 29,
     "metadata": {},
     "output_type": "execute_result"
    }
   ],
   "source": [
    "df.duplicated().sum()"
   ]
  },
  {
   "cell_type": "code",
   "execution_count": 30,
   "id": "4d108633",
   "metadata": {},
   "outputs": [],
   "source": [
    "df['Birth Date'] = pd.to_datetime(df['Birth Date'])\n",
    "df['Death Date'] = pd.to_datetime(df['Death Date'])"
   ]
  },
  {
   "cell_type": "code",
   "execution_count": 32,
   "id": "f3034abe",
   "metadata": {},
   "outputs": [
    {
     "data": {
      "text/plain": [
       "Name                           object\n",
       "Year                          float64\n",
       "Group                         float64\n",
       "Status                         object\n",
       "Birth Date             datetime64[ns]\n",
       "Birth Place                    object\n",
       "Gender                         object\n",
       "Alma Mater                     object\n",
       "Undergraduate Major            object\n",
       "Graduate Major                 object\n",
       "Military Rank                  object\n",
       "Military Branch                object\n",
       "Space Flights                   int64\n",
       "Space Flight (hr)               int64\n",
       "Space Walks                     int64\n",
       "Space Walks (hr)              float64\n",
       "Missions                       object\n",
       "Death Date             datetime64[ns]\n",
       "Death Mission                  object\n",
       "dtype: object"
      ]
     },
     "execution_count": 32,
     "metadata": {},
     "output_type": "execute_result"
    }
   ],
   "source": [
    "df.dtypes"
   ]
  },
  {
   "cell_type": "code",
   "execution_count": 35,
   "id": "57c98e44",
   "metadata": {},
   "outputs": [],
   "source": [
    "df['Year'] = df['Year'].astype(int)"
   ]
  },
  {
   "cell_type": "code",
   "execution_count": 36,
   "id": "a1fa8d85",
   "metadata": {},
   "outputs": [],
   "source": [
    "df['Group'] = df['Group'].astype(int)"
   ]
  },
  {
   "cell_type": "code",
   "execution_count": 37,
   "id": "36c38b3d",
   "metadata": {},
   "outputs": [
    {
     "data": {
      "text/plain": [
       "Name                           object\n",
       "Year                            int32\n",
       "Group                           int32\n",
       "Status                         object\n",
       "Birth Date             datetime64[ns]\n",
       "Birth Place                    object\n",
       "Gender                         object\n",
       "Alma Mater                     object\n",
       "Undergraduate Major            object\n",
       "Graduate Major                 object\n",
       "Military Rank                  object\n",
       "Military Branch                object\n",
       "Space Flights                   int64\n",
       "Space Flight (hr)               int64\n",
       "Space Walks                     int64\n",
       "Space Walks (hr)              float64\n",
       "Missions                       object\n",
       "Death Date             datetime64[ns]\n",
       "Death Mission                  object\n",
       "dtype: object"
      ]
     },
     "execution_count": 37,
     "metadata": {},
     "output_type": "execute_result"
    }
   ],
   "source": [
    "df.dtypes"
   ]
  },
  {
   "cell_type": "code",
   "execution_count": 38,
   "id": "fa3d2359",
   "metadata": {},
   "outputs": [],
   "source": [
    "df.to_csv('cleaned_data.csv', index=False)"
   ]
  },
  {
   "cell_type": "code",
   "execution_count": null,
   "id": "ba62cc83",
   "metadata": {},
   "outputs": [],
   "source": []
  }
 ],
 "metadata": {
  "kernelspec": {
   "display_name": "Python 3 (ipykernel)",
   "language": "python",
   "name": "python3"
  },
  "language_info": {
   "codemirror_mode": {
    "name": "ipython",
    "version": 3
   },
   "file_extension": ".py",
   "mimetype": "text/x-python",
   "name": "python",
   "nbconvert_exporter": "python",
   "pygments_lexer": "ipython3",
   "version": "3.9.7"
  }
 },
 "nbformat": 4,
 "nbformat_minor": 5
}
